{
 "cells": [
  {
   "cell_type": "code",
   "execution_count": 1,
   "id": "fa03c91a",
   "metadata": {},
   "outputs": [
    {
     "ename": "SyntaxError",
     "evalue": "positional argument follows keyword argument (<ipython-input-1-f20a174bf5b1>, line 8)",
     "output_type": "error",
     "traceback": [
      "\u001b[0;36m  File \u001b[0;32m\"<ipython-input-1-f20a174bf5b1>\"\u001b[0;36m, line \u001b[0;32m8\u001b[0m\n\u001b[0;31m    for j in range(i=1,m):\u001b[0m\n\u001b[0m                       ^\u001b[0m\n\u001b[0;31mSyntaxError\u001b[0m\u001b[0;31m:\u001b[0m positional argument follows keyword argument\n"
     ]
    }
   ],
   "source": [
    "# TÍnh PACF = các hệ số tương quan riêng phần\n",
    "PACF = np.zeros(K)\n",
    "for m in range(1,K+1):\n",
    "    p = np.eye(m)\n",
    "    for i in range(m):\n",
    "        for j in range(i):\n",
    "            P[i,j] = ACF[i-j-1]\n",
    "        for j in range(i=1,m):\n",
    "            P[i,j] = ACF[j-i-1]\n",
    "    PACF[m-1] = np.linalg.solve(P, ACF[:m])[-1]\n",
    "    \n",
    "#Ve do thi\n",
    "\n",
    "fig, ax = plt.subplots(figsize=(10,5))\n",
    "ax.bar(x, PACF, color='maroon', width=0.2, label='PACF')\n",
    "ax.plot(x,-2/np.sqrt(N)*np.ones(K), linestype='dashdot')\n",
    "ax.plot(x,2/np.sqrt(N)*np.ones(K), linestype='dashdot')\n",
    "ax.set_ylim([-1,-1])\n",
    "plt.legend()\n",
    "plt.show()"
   ]
  },
  {
   "cell_type": "code",
   "execution_count": null,
   "id": "0a234538",
   "metadata": {},
   "outputs": [],
   "source": []
  }
 ],
 "metadata": {
  "kernelspec": {
   "display_name": "Python 3",
   "language": "python",
   "name": "python3"
  },
  "language_info": {
   "codemirror_mode": {
    "name": "ipython",
    "version": 3
   },
   "file_extension": ".py",
   "mimetype": "text/x-python",
   "name": "python",
   "nbconvert_exporter": "python",
   "pygments_lexer": "ipython3",
   "version": "3.8.8"
  }
 },
 "nbformat": 4,
 "nbformat_minor": 5
}
