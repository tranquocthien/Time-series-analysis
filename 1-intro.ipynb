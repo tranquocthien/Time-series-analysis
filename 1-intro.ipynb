{
 "cells": [
  {
   "cell_type": "markdown",
   "id": "41b6bcce",
   "metadata": {},
   "source": [
    "## Giới thiệu một số thư viện Python\n",
    "### (numpy, pandas, scikit-learn, matplotlib,...)\n"
   ]
  },
  {
   "cell_type": "markdown",
   "id": "aceb947a",
   "metadata": {},
   "source": [
    "## 1. Thư viện Numpy"
   ]
  },
  {
   "cell_type": "code",
   "execution_count": 5,
   "id": "29ab6cc5",
   "metadata": {},
   "outputs": [
    {
     "data": {
      "text/plain": [
       "array([[1, 2, 3],\n",
       "       [4, 5, 6]])"
      ]
     },
     "execution_count": 5,
     "metadata": {},
     "output_type": "execute_result"
    }
   ],
   "source": [
    "import numpy as np\n",
    "#Define array\n",
    "A = np.array([[1,2,3],[4,5,6]])\n",
    "A\n"
   ]
  },
  {
   "cell_type": "markdown",
   "id": "fb4938ef",
   "metadata": {},
   "source": [
    "Các thuộc tính của mảng ndarray (dtype, ndim, size, shape)"
   ]
  },
  {
   "cell_type": "code",
   "execution_count": 7,
   "id": "dcbbbcce",
   "metadata": {},
   "outputs": [
    {
     "name": "stdout",
     "output_type": "stream",
     "text": [
      "int64\n"
     ]
    }
   ],
   "source": [
    "#Kiểu dữ liệu của mảng\n",
    "print(A.dtype)"
   ]
  },
  {
   "cell_type": "code",
   "execution_count": 9,
   "id": "5afac1f6",
   "metadata": {},
   "outputs": [
    {
     "name": "stdout",
     "output_type": "stream",
     "text": [
      "2\n"
     ]
    }
   ],
   "source": [
    "#SỐ chiều của mảng\n",
    "print(A.ndim)"
   ]
  },
  {
   "cell_type": "code",
   "execution_count": 10,
   "id": "bb9a7bc5",
   "metadata": {},
   "outputs": [
    {
     "name": "stdout",
     "output_type": "stream",
     "text": [
      "6\n"
     ]
    }
   ],
   "source": [
    "#Số phần tử\n",
    "print(A.size)"
   ]
  },
  {
   "cell_type": "code",
   "execution_count": 11,
   "id": "f4355e20",
   "metadata": {},
   "outputs": [
    {
     "name": "stdout",
     "output_type": "stream",
     "text": [
      "(2, 3)\n"
     ]
    }
   ],
   "source": [
    "# Kích thước của ma trận\n",
    "print(A.shape)"
   ]
  },
  {
   "cell_type": "code",
   "execution_count": 23,
   "id": "5f50655a",
   "metadata": {},
   "outputs": [
    {
     "name": "stdout",
     "output_type": "stream",
     "text": [
      "[[1. 1. 1.]\n",
      " [1. 1. 1.]]\n",
      "----------\n",
      "[0 0 0 0]\n",
      "----------\n",
      "[ 1  3  5  7  9 11 13]\n",
      "----------\n",
      "[[4.66919098e-310 0.00000000e+000 0.00000000e+000]\n",
      " [0.00000000e+000 0.00000000e+000 0.00000000e+000]\n",
      " [0.00000000e+000 0.00000000e+000 0.00000000e+000]\n",
      " [0.00000000e+000 0.00000000e+000 0.00000000e+000]]\n",
      "--------------\n",
      "[[ 0.25898988 -1.35779348  0.64638985]\n",
      " [ 1.19309271 -1.08212995  0.40249722]]\n",
      "---------------\n",
      "[[-1.61652032  0.82030787 -1.04729062  0.45897514]\n",
      " [-1.39841693 -0.14919895  0.08274252  0.60984517]]\n"
     ]
    }
   ],
   "source": [
    "#Một cách khác để khởi tạo ma trận\n",
    "B = np.ones((2,3), dtype=np.float64)\n",
    "print(B)\n",
    "print(\"----------\")\n",
    "C = np.zeros(4,dtype = np.int32)\n",
    "print(C)\n",
    "print(\"----------\")\n",
    "D = np.arange(1,15,2)\n",
    "print(D)\n",
    "print(\"----------\")\n",
    "E = np.empty((4,3))\n",
    "print(E)\n",
    "print(\"--------------\")\n",
    "F = np.random.normal(0,1,(2,3))\n",
    "print(F)\n",
    "print(\"---------------\")\n",
    "G = np.random.randn(8).reshape(2,4)\n",
    "print(G)"
   ]
  },
  {
   "cell_type": "code",
   "execution_count": 27,
   "id": "4bb974b7",
   "metadata": {},
   "outputs": [
    {
     "name": "stdout",
     "output_type": "stream",
     "text": [
      "[1 2 3 4]\n",
      "[-0.59120262  1.41582849  1.08628405 -0.14045075]\n",
      "---------------\n",
      "[[ 1.          2.          3.          4.        ]\n",
      " [-0.59120262  1.41582849  1.08628405 -0.14045075]]\n",
      "-----------------\n",
      "[ 1.          2.          3.          4.         -0.59120262  1.41582849\n",
      "  1.08628405 -0.14045075]\n"
     ]
    }
   ],
   "source": [
    "#Ghép mảng\n",
    "R1 = np.array([1,2,3,4])\n",
    "R2 = np.random.randn(4)\n",
    "print(R1,R2, sep='\\n')\n",
    "print(\"---------------\")\n",
    "A1 = np.vstack([R1,R2])\n",
    "print(A1)\n",
    "print(\"-------H stack----------\")\n",
    "A2 = np.hstack([R1,R2])\n",
    "print(A2)"
   ]
  },
  {
   "cell_type": "markdown",
   "id": "b2acf492",
   "metadata": {},
   "source": [
    "#### Ma trận và các phép toán"
   ]
  },
  {
   "cell_type": "code",
   "execution_count": 37,
   "id": "a37b324a",
   "metadata": {},
   "outputs": [
    {
     "name": "stdout",
     "output_type": "stream",
     "text": [
      "A =\n",
      "[[-2  1  4  3]\n",
      " [ 2  4 -5  1]\n",
      " [ 2  1  0 -6]]\n",
      "B =\n",
      "[[1. 0. 0. 0.]\n",
      " [0. 1. 0. 0.]\n",
      " [0. 0. 1. 0.]]\n",
      "A+B =\n",
      "[[-1.  1.  4.  3.]\n",
      " [ 2.  5. -5.  1.]\n",
      " [ 2.  1.  1. -6.]]\n"
     ]
    }
   ],
   "source": [
    "#Cộng ma trận \n",
    "rA = np.array([[-2,1,4,3],[2,4,-5,1],[2,1,0,-6]])\n",
    "print(\"A =\" ,rA, sep ='\\n')\n",
    "rB = np.eye(3,4)\n",
    "print(\"B =\" , rB, sep ='\\n')\n",
    "\n",
    "print(\"A+B =\" ,rA + rB, sep='\\n')"
   ]
  },
  {
   "cell_type": "code",
   "execution_count": 43,
   "id": "35e0bba8",
   "metadata": {},
   "outputs": [
    {
     "name": "stdout",
     "output_type": "stream",
     "text": [
      "A =\n",
      "[[-2  1  4  3]\n",
      " [ 2  4 -5  1]\n",
      " [ 2  1  0 -6]]\n",
      "A+4 =\n",
      "[[ 2  5  8  7]\n",
      " [ 6  8 -1  5]\n",
      " [ 6  5  4 -2]]\n",
      "A*4 =\n",
      "[[ -8   4  16  12]\n",
      " [  8  16 -20   4]\n",
      " [  8   4   0 -24]]\n",
      "A^2 =\n",
      "[[ 4  1 16  9]\n",
      " [ 4 16 25  1]\n",
      " [ 4  1  0 36]]\n"
     ]
    }
   ],
   "source": [
    "# Cộng, trừ, nhân với một số\n",
    "A = np.array([[-2,1,4,3],[2,4,-5,1],[2,1,0,-6]])\n",
    "print(\"A =\",A, sep='\\n')\n",
    "print(\"A+4 =\",A + 4, sep='\\n')\n",
    "\n",
    "print(\"A*4 =\",A * 4, sep='\\n')\n",
    "\n",
    "#Luỹ thừa chuôi\n",
    "print('A^2 =', A**2, sep='\\n')"
   ]
  },
  {
   "cell_type": "code",
   "execution_count": 47,
   "id": "1dd27ac7",
   "metadata": {},
   "outputs": [
    {
     "name": "stdout",
     "output_type": "stream",
     "text": [
      "a = \n",
      "[[ 1  2  3]\n",
      " [-2  1 -1]\n",
      " [ 0  4  0]]\n",
      "b = \n",
      "[[ 0  0  1]\n",
      " [-1  1  2]\n",
      " [ 2  0 -1]]\n",
      "----------------------\n",
      "a*b\n",
      "[[ 0  0  3]\n",
      " [ 2  1 -2]\n",
      " [ 0  0  0]]\n",
      "--------------------\n",
      "a@b=/n[[ 4  2  2]\n",
      " [-3  1  1]\n",
      " [-4  4  8]]\n"
     ]
    }
   ],
   "source": [
    "#Nhân ma trận, \n",
    "#sử dụng câu lệnh np.dot(), np.matmul(), hoặc toán tử @\n",
    "a = np.array([[1,2,3],[-2,1,-1],[0,4,0]])\n",
    "b = np.array([[0,0,1],[-1,1,2],[2,0,-1]])\n",
    "print('a = ', a, 'b = ', b, sep='\\n')\n",
    "print('----------------------')\n",
    "print('a*b', a*b, sep ='\\n')\n",
    "print(\"--------------------\")\n",
    "#Nhân 2 ma trận theo đại số tuyến tính\n",
    "## a@b hoặc np.dot(a,b), matmul(a,b) đều ra kết quả như nhau\n",
    "print(\"a@b=\", a@b, sep='/n') "
   ]
  },
  {
   "cell_type": "code",
   "execution_count": 48,
   "id": "516b07fa",
   "metadata": {},
   "outputs": [
    {
     "data": {
      "text/plain": [
       "array([[ 1, -2,  0],\n",
       "       [ 2,  1,  4],\n",
       "       [ 3, -1,  0]])"
      ]
     },
     "execution_count": 48,
     "metadata": {},
     "output_type": "execute_result"
    }
   ],
   "source": [
    "# Chuyển vị ma trận\n",
    "a.T"
   ]
  },
  {
   "cell_type": "code",
   "execution_count": 52,
   "id": "ccb11943",
   "metadata": {},
   "outputs": [
    {
     "name": "stdout",
     "output_type": "stream",
     "text": [
      "det(a)= -19.999999999999996\n",
      "rank(a)= 3\n",
      "inv(a)=/n[[-0.2  -0.6   0.25]\n",
      " [ 0.    0.    0.25]\n",
      " [ 0.4   0.2  -0.25]]\n"
     ]
    }
   ],
   "source": [
    "# Tính định thức\n",
    "print(\"det(a)=\",np.linalg.det(a))\n",
    "# Tính hạng của ma trận\n",
    "print('rank(a)=', np.linalg.matrix_rank(a))\n",
    "\n",
    "# Ma trận nghịch đảo\n",
    "print('inv(a)=', np.linalg.inv(a), sep='/n')"
   ]
  },
  {
   "cell_type": "markdown",
   "id": "6f808c4f",
   "metadata": {},
   "source": [
    "# GIẢI HỆ PHƯƠNG TRÌNH TUYẾN TÍNH\n",
    "$$A\\,X=b$$\n",
    "\n",
    "Nếu $A$ khả nghịch, thì hệ phương trình có nghiệm:\n",
    "$$X= A^{-1}B $$"
   ]
  },
  {
   "cell_type": "code",
   "execution_count": 62,
   "id": "406d6696",
   "metadata": {},
   "outputs": [
    {
     "name": "stdout",
     "output_type": "stream",
     "text": [
      "a =\n",
      "[[ 1  2  3]\n",
      " [-2  1 -1]\n",
      " [ 0  4  0]]\n",
      "b=\n",
      "[[ 2]\n",
      " [ 3]\n",
      " [-5]]\n",
      "nghiệm: [[-3.45]\n",
      " [-1.25]\n",
      " [ 2.65]]\n",
      "Nghiệm: [[-3.45]\n",
      " [-1.25]\n",
      " [ 2.65]]\n"
     ]
    }
   ],
   "source": [
    "a = np.array([[1,2,3],[-2,1,-1],[0,4,0]])\n",
    "b = np.array([2,3,-5]).reshape(3,1)\n",
    "print('a =',a, 'b=',b, sep='\\n')\n",
    "print(\"nghiệm:\",np.linalg.inv(a)@b.reshape(3,1))\n",
    "print(\"Nghiệm:\", np.linalg.solve(a,b))"
   ]
  },
  {
   "cell_type": "markdown",
   "id": "890c8b27",
   "metadata": {},
   "source": [
    "## 2. Thư viện Numpy"
   ]
  },
  {
   "cell_type": "code",
   "execution_count": 63,
   "id": "73572413",
   "metadata": {},
   "outputs": [],
   "source": [
    "import pandas as pd"
   ]
  },
  {
   "cell_type": "code",
   "execution_count": 67,
   "id": "f22da5ae",
   "metadata": {},
   "outputs": [
    {
     "data": {
      "text/html": [
       "<div>\n",
       "<style scoped>\n",
       "    .dataframe tbody tr th:only-of-type {\n",
       "        vertical-align: middle;\n",
       "    }\n",
       "\n",
       "    .dataframe tbody tr th {\n",
       "        vertical-align: top;\n",
       "    }\n",
       "\n",
       "    .dataframe thead th {\n",
       "        text-align: right;\n",
       "    }\n",
       "</style>\n",
       "<table border=\"1\" class=\"dataframe\">\n",
       "  <thead>\n",
       "    <tr style=\"text-align: right;\">\n",
       "      <th></th>\n",
       "      <th>YearsExperience</th>\n",
       "      <th>Salary</th>\n",
       "    </tr>\n",
       "  </thead>\n",
       "  <tbody>\n",
       "    <tr>\n",
       "      <th>count</th>\n",
       "      <td>30.000000</td>\n",
       "      <td>30.000000</td>\n",
       "    </tr>\n",
       "    <tr>\n",
       "      <th>mean</th>\n",
       "      <td>5.313333</td>\n",
       "      <td>76003.000000</td>\n",
       "    </tr>\n",
       "    <tr>\n",
       "      <th>std</th>\n",
       "      <td>2.837888</td>\n",
       "      <td>27414.429785</td>\n",
       "    </tr>\n",
       "    <tr>\n",
       "      <th>min</th>\n",
       "      <td>1.100000</td>\n",
       "      <td>37731.000000</td>\n",
       "    </tr>\n",
       "    <tr>\n",
       "      <th>25%</th>\n",
       "      <td>3.200000</td>\n",
       "      <td>56720.750000</td>\n",
       "    </tr>\n",
       "    <tr>\n",
       "      <th>50%</th>\n",
       "      <td>4.700000</td>\n",
       "      <td>65237.000000</td>\n",
       "    </tr>\n",
       "    <tr>\n",
       "      <th>75%</th>\n",
       "      <td>7.700000</td>\n",
       "      <td>100544.750000</td>\n",
       "    </tr>\n",
       "    <tr>\n",
       "      <th>max</th>\n",
       "      <td>10.500000</td>\n",
       "      <td>122391.000000</td>\n",
       "    </tr>\n",
       "  </tbody>\n",
       "</table>\n",
       "</div>"
      ],
      "text/plain": [
       "       YearsExperience         Salary\n",
       "count        30.000000      30.000000\n",
       "mean          5.313333   76003.000000\n",
       "std           2.837888   27414.429785\n",
       "min           1.100000   37731.000000\n",
       "25%           3.200000   56720.750000\n",
       "50%           4.700000   65237.000000\n",
       "75%           7.700000  100544.750000\n",
       "max          10.500000  122391.000000"
      ]
     },
     "execution_count": 67,
     "metadata": {},
     "output_type": "execute_result"
    }
   ],
   "source": [
    "df = pd.read_csv('data/salary_data.csv')\n",
    "df.head()\n",
    "#Thông kê mô tả những chỉ số:\n",
    "#std: độ lệch chuẩn\n",
    "#min: giá trị nhỏ nhất, max: giá trị lớn nhất\n",
    "#25,50,75% : các phân vị, (50% là trung vị)\n",
    "df.describe()"
   ]
  },
  {
   "cell_type": "code",
   "execution_count": 70,
   "id": "2260607c",
   "metadata": {},
   "outputs": [
    {
     "name": "stdout",
     "output_type": "stream",
     "text": [
      "[ 1.1  1.3  1.5  2.   2.2  2.9  3.   3.2  3.2  3.7  3.9  4.   4.   4.1\n",
      "  4.5  4.9  5.1  5.3  5.9  6.   6.8  7.1  7.9  8.2  8.7  9.   9.5  9.6\n",
      " 10.3 10.5]\n",
      "[ 39343.  46205.  37731.  43525.  39891.  56642.  60150.  54445.  64445.\n",
      "  57189.  63218.  55794.  56957.  57081.  61111.  67938.  66029.  83088.\n",
      "  81363.  93940.  91738.  98273. 101302. 113812. 109431. 105582. 116969.\n",
      " 112635. 122391. 121872.]\n"
     ]
    }
   ],
   "source": [
    "#Trích xuất\n",
    "x = df['YearsExperience'].values\n",
    "y = df['Salary'].values\n",
    "print(x)\n",
    "print(y)"
   ]
  },
  {
   "cell_type": "code",
   "execution_count": 72,
   "id": "7baaec95",
   "metadata": {},
   "outputs": [
    {
     "name": "stdout",
     "output_type": "stream",
     "text": [
      "Tóm tắt x: 5.3133333333333335 2.790189161249745\n",
      "Tóm tắt y: 76003.0 26953.65024877583\n"
     ]
    }
   ],
   "source": [
    "print('Tóm tắt x:',x.mean(), x.std())\n",
    "print('Tóm tắt y:',y.mean(), y.std())"
   ]
  },
  {
   "cell_type": "markdown",
   "id": "21658401",
   "metadata": {},
   "source": [
    "## 3.Thư viện scikit-learn\n",
    "Cung cấp các thuật toán trong machine learning:\n",
    "* Hồi quy tuyến tính\n",
    "\n",
    "Tìm mô hình hồi quy của biến $y$ theo các biến $x_1, x_2, x_3,...$\n",
    "\n",
    "Gỉa sử mô hình có dạng:\n",
    "$$y_i = \\beta_0 +\\beta_1*x_1 +\\cdots + \\beta_k*x_k + \\varepsilon$$\n",
    "\n",
    "Cho $i=1,2,...,n$ thu được 1 phương trình dạng ma trận:\n",
    "$$Y = X*\\beta+\\varepsilon$$\n",
    "Dạng tường minh:\n",
    "$$\n",
    "Y=\\begin{pmatrix}\n",
    "y_1 \\\\\n",
    "y_2 \\\\\n",
    "\\vdots \\\\\n",
    "y_n \n",
    "\\end{pmatrix};\n",
    "X = \\begin{pmatrix}\n",
    "1 & x_{11} & \\cdots & x_{1k} \\\\\n",
    "1 & x_{21} & \\cdots & x_{2k} \\\\\n",
    "\\vdots & \\vdots & \\vdots  &\\vdots \\\\\n",
    "1 & x_{n1} &\\cdots &x_{nk}\n",
    "\\end{pmatrix};\n",
    "\\beta =\\begin{pmatrix}\n",
    "\\beta_0 \\\\\n",
    "\\beta_1 \\\\\n",
    "\\vdots \\\\\n",
    "\\beta_k \\\\\n",
    "\\end{pmatrix};\n",
    "$$\n",
    "\n",
    "Để tìm $\\beta$ ta sẽ cực tiểu hoá hàm tổng bình phương sai số. Ta thu được :\n",
    "$$(X^T.X)\\beta=X^T.y\\Rightarrow \\beta=(X^T.X)^{-1}(X^T.y)$$"
   ]
  },
  {
   "cell_type": "code",
   "execution_count": 73,
   "id": "cd59cea3",
   "metadata": {},
   "outputs": [],
   "source": [
    " from sklearn.linear_model import LinearRegression"
   ]
  },
  {
   "cell_type": "code",
   "execution_count": 83,
   "id": "12227e63",
   "metadata": {},
   "outputs": [
    {
     "name": "stdout",
     "output_type": "stream",
     "text": [
      "Tham số mô hình: 25792.20019866871 [9449.96232146]\n",
      "Mô hình: y = 25792.200199 9449.962321*x + e\n"
     ]
    }
   ],
   "source": [
    "#Xây dựng mô hình tuyến tính cho mức lương theo số năm kinh nghiệm\n",
    "x = df['YearsExperience'].values\n",
    "y = df['Salary'].values\n",
    "#fit_intercept: true hệ số beta0 được tính vào - tìm cả hệ số tự do beta0\n",
    "#fit_intercept: false đi qua gốc toạ độ\n",
    "model = LinearRegression(fit_intercept = True)\n",
    "\n",
    "X = x[:,np.newaxis] #x.reshape(len(x),1)\n",
    "#Xây dựng hàm hồi quy tuyến tính\n",
    "model.fit(X,y)\n",
    "print(\"Tham số mô hình:\",model.intercept_, model.coef_);\n",
    "print(\"Mô hình: y = %f %f*x + e\" % (model.intercept_, model.coef_[0]));"
   ]
  },
  {
   "cell_type": "markdown",
   "id": "f0b09755",
   "metadata": {},
   "source": [
    "## 4. Thư viện matplotlib"
   ]
  },
  {
   "cell_type": "code",
   "execution_count": 84,
   "id": "b5475612",
   "metadata": {},
   "outputs": [],
   "source": [
    "import matplotlib.pyplot as plt\n"
   ]
  },
  {
   "cell_type": "code",
   "execution_count": 91,
   "id": "4dc6bc0d",
   "metadata": {},
   "outputs": [
    {
     "data": {
      "image/png": "[encoded data removed]",
      "text/plain": [
       "<Figure size 432x288 with 1 Axes>"
      ]
     },
     "metadata": {
      "needs_background": "light"
     },
     "output_type": "display_data"
    }
   ],
   "source": [
    "xfit = np.arange(0,12)\n",
    "#Sửa xfit thành vector 2 chiều\n",
    "Xfit = xfit[:,np.newaxis]\n",
    "#Tìm mô hình hồi quy tuyến tính: model hoặc predict\n",
    "yfit = model.predict(Xfit)\n",
    "plt.scatter(x,y, label='Original data')\n",
    "plt.plot(xfit, yfit, 'r', label='Fitted line')\n",
    "plt.legend()\n",
    "plt.show()"
   ]
  },
  {
   "cell_type": "code",
   "execution_count": null,
   "id": "1dd7c100",
   "metadata": {},
   "outputs": [],
   "source": []
  }
 ],
 "metadata": {
  "kernelspec": {
   "display_name": "Python 3",
   "language": "python",
   "name": "python3"
  },
  "language_info": {
   "codemirror_mode": {
    "name": "ipython",
    "version": 3
   },
   "file_extension": ".py",
   "mimetype": "text/x-python",
   "name": "python",
   "nbconvert_exporter": "python",
   "pygments_lexer": "ipython3",
   "version": "3.8.8"
  }
 },
 "nbformat": 4,
 "nbformat_minor": 5
}
